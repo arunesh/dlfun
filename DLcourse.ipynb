{
 "cells": [
  {
   "cell_type": "code",
   "execution_count": 1,
   "metadata": {},
   "outputs": [],
   "source": [
    "import numpy as np"
   ]
  },
  {
   "cell_type": "code",
   "execution_count": 7,
   "metadata": {},
   "outputs": [
    {
     "name": "stdout",
     "output_type": "stream",
     "text": [
      "[ 1  2 34]\n"
     ]
    }
   ],
   "source": [
    "a = np.array([1, 2,34])\n",
    "print(a)"
   ]
  },
  {
   "cell_type": "code",
   "execution_count": 13,
   "metadata": {},
   "outputs": [
    {
     "name": "stdout",
     "output_type": "stream",
     "text": [
      "0.7100105285644531  ms\n",
      "Result:  250046.9065571609\n"
     ]
    }
   ],
   "source": [
    "import time\n",
    "a = np.random.rand(1000000)\n",
    "b = np.random.rand(1000000)\n",
    "t1 = time.time()\n",
    "\n",
    "dot = np.dot(a,b)\n",
    "t2 = time.time()\n",
    "print((t2-t1) * 1000, \" ms\")\n",
    "print(\"Result: \", dot)"
   ]
  },
  {
   "cell_type": "code",
   "execution_count": 14,
   "metadata": {},
   "outputs": [
    {
     "name": "stdout",
     "output_type": "stream",
     "text": [
      "Serial time:  339.4770622253418\n",
      "Result:  250046.90655716564\n"
     ]
    }
   ],
   "source": [
    "t3 = time.time()\n",
    "dot2 = 0.0\n",
    "for i in range(1000000):\n",
    "    dot2 += a[i] * b[i]\n",
    "t4 = time.time()\n",
    "\n",
    "print(\"Serial time: \", ((t4-t3)*1000.0))\n",
    "print(\"Result: \", dot2)"
   ]
  },
  {
   "cell_type": "code",
   "execution_count": null,
   "metadata": {},
   "outputs": [],
   "source": []
  }
 ],
 "metadata": {
  "kernelspec": {
   "display_name": "Python 3",
   "language": "python",
   "name": "python3"
  },
  "language_info": {
   "codemirror_mode": {
    "name": "ipython",
    "version": 3
   },
   "file_extension": ".py",
   "mimetype": "text/x-python",
   "name": "python",
   "nbconvert_exporter": "python",
   "pygments_lexer": "ipython3",
   "version": "3.7.3"
  }
 },
 "nbformat": 4,
 "nbformat_minor": 2
}
